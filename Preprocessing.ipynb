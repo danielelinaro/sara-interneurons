{
 "cells": [
  {
   "cell_type": "code",
   "execution_count": 1,
   "metadata": {},
   "outputs": [
    {
     "name": "stderr",
     "output_type": "stream",
     "text": [
      "/Users/daniele/local/miniconda2/lib/python2.7/site-packages/h5py/__init__.py:34: FutureWarning: Conversion of the second argument of issubdtype from `float` to `np.floating` is deprecated. In future, it will be treated as `np.float64 == np.dtype(float).type`.\n",
      "  from ._conv import register_converters as _register_converters\n"
     ]
    }
   ],
   "source": [
    "import os\n",
    "import pickle\n",
    "import numpy as np\n",
    "import matplotlib.pyplot as plt\n",
    "import glob\n",
    "# documentation for neo is here: http://neo.readthedocs.io/en/0.6/index.html\n",
    "import neo\n",
    "import efel\n",
    "import quantities as pq\n",
    "efel.setThreshold(0)"
   ]
  },
  {
   "cell_type": "markdown",
   "metadata": {},
   "source": [
    "#### Function for loading ABF files"
   ]
  },
  {
   "cell_type": "code",
   "execution_count": 2,
   "metadata": {
    "collapsed": true
   },
   "outputs": [],
   "source": [
    "def load_abf_files(files):\n",
    "    nfiles = len(files)\n",
    "    cnt = 0\n",
    "    for i,f in enumerate(files):\n",
    "        print('Loading data from file [%s].' % f)\n",
    "        # create a reader object\n",
    "        reader = neo.io.AxonIO(f)\n",
    "        # read the whole file as a block\n",
    "        block = reader.read()\n",
    "        # iterate over the segments in the block: each segment is a recording sweep\n",
    "        nseg = len(block[0].segments)\n",
    "        for j,segment in enumerate(block[0].segments):\n",
    "            signal = segment.analogsignals[0]\n",
    "            x = signal.as_array()\n",
    "            if j == 0:\n",
    "                if i == 0:\n",
    "                    print('Allocating matrix of size (%d,%d).' % (nseg,len(x)))\n",
    "                    X = np.zeros((nseg,len(x)))\n",
    "                else:\n",
    "                    if nsamples == X.shape[1]:\n",
    "                        print('Increasing matrix size to (%d,%d).' % (X.shape[0]+nseg,len(x)))\n",
    "                        X_new = np.zeros((X.shape[0]+nseg,len(x)))\n",
    "                        X_new[:X.shape[0],:] = X\n",
    "                        X = X_new\n",
    "                    else:\n",
    "                        print('Skipping file [%s]: data size does not match.' % f)\n",
    "                        break\n",
    "            duration = float(signal.duration)\n",
    "            X[cnt,:] = x[:,0]\n",
    "            cnt += 1\n",
    "    srate = X.shape[1] / duration\n",
    "    T = np.arange(X.shape[1])/srate\n",
    "    return T,X"
   ]
  },
  {
   "cell_type": "markdown",
   "metadata": {},
   "source": [
    "#### Returns True if the file contains a voltage recording"
   ]
  },
  {
   "cell_type": "code",
   "execution_count": 3,
   "metadata": {
    "collapsed": true
   },
   "outputs": [],
   "source": [
    "def contains_voltage_recording(filename):\n",
    "    import quantities as pq\n",
    "    reader = neo.io.AxonIO(filename)\n",
    "    block = reader.read()\n",
    "    return block[0].segments[0].analogsignals[0].units == pq.millivolt"
   ]
  },
  {
   "cell_type": "markdown",
   "metadata": {},
   "source": [
    "#### Fit the I-V curve with a linear polynomial"
   ]
  },
  {
   "cell_type": "code",
   "execution_count": 4,
   "metadata": {
    "collapsed": true
   },
   "outputs": [],
   "source": [
    "def fit_IV_curve(dV,I):\n",
    "    p = np.polyfit(I,dV,1)\n",
    "    Rin = p[0]\n",
    "    offset = p[1]\n",
    "    return Rin,offset\n",
    "\n",
    "def compute_input_resistance(features,Idc):\n",
    "    # Idc in pA, Rin in MOhm\n",
    "    dV = np.array([feat['voltage_deflection'][0] for feat in features if feat['Spikecount'][0] == 0])\n",
    "    I = np.array([idc for feat,idc in zip(features,Idc) if feat['Spikecount'][0] == 0])\n",
    "    idx, = np.where(I>0)\n",
    "    Rin,offset = fit_IV_curve(dV[:idx[0]+1],I[:idx[0]+1])\n",
    "    return Rin,offset,I,dV"
   ]
  },
  {
   "cell_type": "markdown",
   "metadata": {},
   "source": [
    "#### Fit the f-I curve with a power law function"
   ]
  },
  {
   "cell_type": "code",
   "execution_count": 5,
   "metadata": {
    "collapsed": true
   },
   "outputs": [],
   "source": [
    "def fit_fI_curve(I,firing_rate):\n",
    "    import scipy.optimize as opt\n",
    "    power_law = lambda x,a,b,c: a*x**b+c\n",
    "    idx, = np.where(firing_rate <= 0)\n",
    "    x = I[idx[-1]:]\n",
    "    y = firing_rate[idx[-1]:]\n",
    "    p = np.polyfit(x,y,1)\n",
    "    popt,pcov = opt.curve_fit(power_law,x,y,p0=[p[0],1,p[1]],maxfev=20000)\n",
    "    a = popt[0]\n",
    "    b = popt[1]\n",
    "    c = popt[2]\n",
    "    if c < 0:\n",
    "        rheobase = (-c/a)**(1/b)\n",
    "    else:\n",
    "        rheobase = (c/a)**(1/b)\n",
    "    return a,b,c,rheobase"
   ]
  },
  {
   "cell_type": "markdown",
   "metadata": {},
   "source": [
    "#### Function for extracting features from a cell: loads the data and extracts the features"
   ]
  },
  {
   "cell_type": "code",
   "execution_count": 6,
   "metadata": {
    "collapsed": true
   },
   "outputs": [],
   "source": [
    "feature_names = ['Spikecount','mean_frequency','time_to_first_spike',\n",
    "                 'peak_voltage','peak_time',\n",
    "                 'spike_half_width','AP_width',\n",
    "                 'AP_amplitude','min_AHP_values','AP_begin_voltage',\n",
    "                 'ISI_CV','adaptation_index2',\n",
    "                 'voltage_base','time_constant','voltage_deflection']\n",
    "\n",
    "# NOTE that mean_frequency is defined as the number of peaks divided by the\n",
    "# time to the last spike: this may lead to strange values if the cell does\n",
    "# NOT spike regularly\n",
    "\n",
    "# it makes sense to use voltage_base if the cells are not held at a certain\n",
    "# resting potential by current injection\n",
    "\n",
    "def extract_features_from_cell(filename, t0=120., dur=500.):\n",
    "    if not contains_voltage_recording(filename):\n",
    "        raise '%s does not contain voltage traces' % filename\n",
    "    t,V = load_abf_files([filename])\n",
    "    t = t*1e3\n",
    "    traces = []\n",
    "    for v in V:\n",
    "        traces.append({'T': t, 'V': v, 'stim_start': [t0], 'stim_end': [t0+dur]})\n",
    "    features = efel.getFeatureValues(traces,feature_names)\n",
    "    return features,t,V"
   ]
  },
  {
   "cell_type": "markdown",
   "metadata": {},
   "source": [
    "#### Function for preprocessing individual cells"
   ]
  },
  {
   "cell_type": "code",
   "execution_count": 9,
   "metadata": {},
   "outputs": [],
   "source": [
    "def preprocess_cell(filename,t0,dur,Istep,Imin=None):\n",
    "    \n",
    "    features,t,V = extract_features_from_cell(filename,t0,dur)\n",
    "    ### resting membrane potential\n",
    "    Vrest = np.mean([f['voltage_base'][0] for f in features])\n",
    "    ### membrane time constant\n",
    "    time_constant = np.mean([f['time_constant'][0] for f in features if f['time_constant'] is not None])\n",
    "    \n",
    "    ### guess the amplitude of the injected current steps\n",
    "    nsteps = V.shape[0]\n",
    "    \n",
    "    if nsteps == 1:\n",
    "        return\n",
    "\n",
    "    if not Imin is None:\n",
    "        Idc = Imin + np.arange(nsteps)*Istep\n",
    "    else:\n",
    "        # finds the sweep corresponding to I = 0 pA\n",
    "        i = np.argmin(np.std(V,1))\n",
    "        # all the DC values of injected current\n",
    "        Idc = (np.arange(nsteps)-i)*Istep\n",
    "    \n",
    "    ### compute the input resistance of the cell\n",
    "    Rin,Rin_offset,Rin_I,Rin_dV = compute_input_resistance(features,Idc)\n",
    "    print('Input resistance = %.0f MOhm.' % (Rin*1e3))\n",
    "    \n",
    "    ### fit the f-I curve of the cell\n",
    "    try:\n",
    "        firing_rate = np.array([feat['mean_frequency'][0] if feat['Spikecount'] > 0 else 0. for feat in features])\n",
    "        a,b,c,rheobase = fit_fI_curve(Idc,firing_rate)\n",
    "        print('Rheobase = %.0f pA.' % rheobase)\n",
    "        I_slope = 2*rheobase\n",
    "        slope = b*a*I_slope**(b-1)    # sp/s/pA\n",
    "        offset = (power_law(I_slope,a,b,c)-slope*I_slope)\n",
    "        print('The slope of the f-I curve at two times the rheobase is %.4f spikes/s/pA.' % slope)\n",
    "    except:\n",
    "        rheobase = None\n",
    "        I_slope = None\n",
    "        slope = None\n",
    "        print('Could not fit the f-I curve.')\n",
    "        \n",
    "    data = {'features': features, 'Vrest': Vrest, 'time_constant': time_constant, \\\n",
    "            'Rin': Rin*1e3, 'rheobase': rheobase, 'Idc': Idc, \\\n",
    "           'firing_rate': firing_rate, 'I_slope': I_slope, 'fI_slope': slope, \\\n",
    "           't0': t0, 'dur': dur, 'Istep': Istep, 'Imin': Imin}\n",
    "    pickle.dump(data, open(filename[:-4] + '.pkl', 'wb'))\n",
    "    \n",
    "    #### plot the results\n",
    "    ms = 4\n",
    "    plt.figure(figsize=(9,7))\n",
    "\n",
    "    # V-I curve\n",
    "    x = np.array([Rin_I[0]-Istep,Rin_I[-1]+Istep])\n",
    "    y = Rin*x + Rin_offset\n",
    "    plt.subplot(2,2,1)\n",
    "    plt.plot(x,y,'r')\n",
    "    plt.plot(Rin_I,Rin_dV,'ko',markersize=ms)\n",
    "    plt.plot(plt.xlim(),np.array([0,0]),'--',color=[.6,.6,.6])\n",
    "    plt.plot([0,0],plt.ylim(),'--',color=[.6,.6,.6])\n",
    "    plt.xlabel('Injected current (pA)')\n",
    "    plt.ylabel('Voltage deflection (mV)')\n",
    "    plt.text(plt.xlim()[1]-np.diff(plt.xlim())/30, plt.ylim()[0]+np.diff(plt.ylim())/10,\\\n",
    "             'Rin = %.0f MOhm' % (Rin*1e3), horizontalalignment='right')\n",
    "    \n",
    "    num_spikes = np.array([feat['Spikecount'][0] for feat in features])\n",
    "    print('There are %d sweeps containing spikes.' % len(np.where(num_spikes>0)[0]))\n",
    "    if np.max(num_spikes) == 0:\n",
    "        plt.suptitle(filename)\n",
    "        plt.savefig(filename[:-4] + '.pdf', dpi=600)\n",
    "        plt.show()\n",
    "        return\n",
    "\n",
    "    # f-I curve\n",
    "    if not rheobase is None:\n",
    "        x = np.linspace(rheobase,Idc[-1])  # nA\n",
    "        y = power_law(x,a,b,c)             # sp/s\n",
    "        xx = np.array([1.2*rheobase,2.8*rheobase])\n",
    "        yy = slope*xx + offset\n",
    "        plt.subplot(2,2,2)\n",
    "        plt.plot(xx,yy,'b')\n",
    "        plt.plot(x,y,'r')\n",
    "        plt.plot(I_slope,power_law(I_slope,a,b,c),'cs',markersize=7)\n",
    "        plt.plot(rheobase*np.ones(2),plt.ylim(),'g--')\n",
    "        plt.plot(Idc,firing_rate,'ko',markersize=ms)\n",
    "        plt.xlabel('Injected current (pA)')\n",
    "        plt.ylabel('Firing rate (AP/s)')\n",
    "        plt.text(plt.xlim()[1]-np.diff(plt.xlim())/30, plt.ylim()[0]+np.diff(plt.ylim())/5,\\\n",
    "                 'rheobase = %.0f pA' % rheobase, horizontalalignment='right')\n",
    "        plt.text(plt.xlim()[1]-np.diff(plt.xlim())/30, plt.ylim()[0]+np.diff(plt.ylim())/10,\\\n",
    "                 'slope = %.3f sp/s/pA' % slope, horizontalalignment='right')\n",
    "    \n",
    "    # plot one voltage trace\n",
    "    first = np.where(num_spikes>0)[0][0]\n",
    "    accommodation_index = np.array([feat['adaptation_index2'][0] if feat['adaptation_index2'] \\\n",
    "                                    is not None else np.nan for feat in features])\n",
    "    #print(accommodation_index)\n",
    "    mean_accommodation_index = np.nanmean(accommodation_index)\n",
    "    i = 0\n",
    "    \n",
    "    plt.subplot(2,2,3)\n",
    "    plt.plot(t,V[first+i,:],'k',lw=1)\n",
    "    plt.plot(features[first+i]['peak_time'],features[first+i]['peak_voltage'],'ro',markersize=ms)\n",
    "    plt.xlabel('Time (ms)')\n",
    "    plt.ylabel('Voltage (mV)')\n",
    "    plt.xlim([t0-50,t0+dur+100])\n",
    "    yl = plt.ylim()\n",
    "    plt.text(t0+dur/2,plt.ylim()[0]+np.diff(plt.ylim())/20,\\\n",
    "             'acc. index = %.4f' % accommodation_index[first+i],\\\n",
    "             horizontalalignment='center')\n",
    "    plt.subplot(2,2,4)\n",
    "    plt.plot(t,V[first+i,:],'k',lw=1)\n",
    "    plt.plot(t0+features[first+i]['time_to_first_spike'][0]+np.array([0,0]),plt.ylim(),'r--')\n",
    "    plt.plot(plt.xlim(),features[first+i]['AP_begin_voltage'][0]+np.array([0,0]),'g--')\n",
    "    plt.plot(plt.xlim(),features[first+i]['AP_begin_voltage'][0]+\\\n",
    "             features[first+i]['AP_amplitude'][0]+np.array([0,0]),'m--')\n",
    "    plt.plot(plt.xlim(),features[first+i]['min_AHP_values'][0]+np.array([0,0]),'b--')\n",
    "    plt.xlabel('Time (ms)')\n",
    "    plt.xlim(t0+features[first+i]['time_to_first_spike'][0]+np.array([-3,7]))\n",
    "    plt.ylim(yl)\n",
    "    \n",
    "    plt.suptitle(filename)\n",
    "    \n",
    "    plt.savefig(filename[:-4] + '.pdf', dpi=600)\n",
    "    plt.show()"
   ]
  },
  {
   "cell_type": "markdown",
   "metadata": {},
   "source": [
    "#### Preprocess all cells"
   ]
  },
  {
   "cell_type": "code",
   "execution_count": 8,
   "metadata": {},
   "outputs": [
    {
     "name": "stdout",
     "output_type": "stream",
     "text": [
      "Loading data from file [/Users/daniele/Desktop/Sara/2018_05_16_0045.abf].\n",
      "Allocating matrix of size (20,26000).\n"
     ]
    },
    {
     "name": "stderr",
     "output_type": "stream",
     "text": [
      "/Users/daniele/local/miniconda2/lib/python2.7/site-packages/efel/api.py:379: RuntimeWarning: Error while calculating feature mean_frequency: \n",
      "Voltage never goes below or above threshold in spike detection.\n",
      "\n",
      "  RuntimeWarning)\n",
      "/Users/daniele/local/miniconda2/lib/python2.7/site-packages/efel/api.py:379: RuntimeWarning: Error while calculating feature time_to_first_spike: \n",
      " One spike required for time_to_first_spike.\n",
      "\n",
      "  RuntimeWarning)\n",
      "/Users/daniele/local/miniconda2/lib/python2.7/site-packages/efel/api.py:379: RuntimeWarning: Error while calculating feature peak_voltage: \n",
      "  RuntimeWarning)\n",
      "/Users/daniele/local/miniconda2/lib/python2.7/site-packages/efel/api.py:379: RuntimeWarning: Error while calculating feature spike_half_width: \n",
      " At least one spike required for calculation of min_AHP_indices.\n",
      "\n",
      "Feature [min_AHP_indices] is missing\n",
      "\n",
      "  RuntimeWarning)\n",
      "/Users/daniele/local/miniconda2/lib/python2.7/site-packages/efel/api.py:379: RuntimeWarning: Error while calculating feature AP_width: \n",
      " At least one spike required for calculation of min_AHP_indices.\n",
      "\n",
      "No spike in trace.\n",
      "\n",
      "  RuntimeWarning)\n",
      "/Users/daniele/local/miniconda2/lib/python2.7/site-packages/efel/api.py:379: RuntimeWarning: Error while calculating feature AP_amplitude: \n",
      " At least one spike required for calculation of min_AHP_indices.\n",
      "\n",
      "Feature [min_AHP_indices] is missing\n",
      "\n",
      "Feature [peak_voltage] is missing\n",
      "AP_amplitude: Error calculating peak_voltage\n",
      "  RuntimeWarning)\n",
      "/Users/daniele/local/miniconda2/lib/python2.7/site-packages/efel/api.py:379: RuntimeWarning: Error while calculating feature min_AHP_values: \n",
      " At least one spike required for calculation of min_AHP_indices.\n",
      "\n",
      "  RuntimeWarning)\n",
      "/Users/daniele/local/miniconda2/lib/python2.7/site-packages/efel/api.py:379: RuntimeWarning: Error while calculating feature AP_begin_voltage: \n",
      " At least one spike required for calculation of min_AHP_indices.\n",
      "\n",
      "Feature [min_AHP_indices] is missing\n",
      "\n",
      "Feature [AP_begin_indices] is missing\n",
      "\n",
      "  RuntimeWarning)\n",
      "/Users/daniele/local/miniconda2/lib/python2.7/site-packages/efel/api.py:379: RuntimeWarning: Error while calculating feature ISI_CV: \n",
      " Three spikes required for calculation of ISI_values.\n",
      "\n",
      "Feature [ISI_values] is missing\n",
      "\n",
      "  RuntimeWarning)\n",
      "/Users/daniele/local/miniconda2/lib/python2.7/site-packages/efel/api.py:379: RuntimeWarning: Error while calculating feature adaptation_index2: \n",
      " At least 4 spikes needed for adaptation_index2.\n",
      "\n",
      "  RuntimeWarning)\n",
      "/Users/daniele/local/miniconda2/lib/python2.7/site-packages/efel/api.py:379: RuntimeWarning: Error while calculating feature time_constant: \n",
      "Trace fall time too short.\n",
      "\n",
      "  RuntimeWarning)\n",
      "/Users/daniele/local/miniconda2/lib/python2.7/site-packages/efel/api.py:379: RuntimeWarning: Error while calculating feature time_constant: Parameter [offset] is missing in double map. In the python interface this can be set using the setDoubleSetting() function\n",
      "\n",
      "Trace fall time too short.\n",
      "\n",
      "  RuntimeWarning)\n",
      "/Users/daniele/local/miniconda2/lib/python2.7/site-packages/efel/api.py:379: RuntimeWarning: Error while calculating feature time_constant: Parameter [offset] is missing in double map. In the python interface this can be set using the setDoubleSetting() function\n",
      "Parameter [offset] is missing in double map. In the python interface this can be set using the setDoubleSetting() function\n",
      "Parameter [offset] is missing in double map. In the python interface this can be set using the setDoubleSetting() function\n",
      "Parameter [offset] is missing in double map. In the python interface this can be set using the setDoubleSetting() function\n",
      "Parameter [offset] is missing in double map. In the python interface this can be set using the setDoubleSetting() function\n",
      "Parameter [offset] is missing in double map. In the python interface this can be set using the setDoubleSetting() function\n",
      "Parameter [offset] is missing in double map. In the python interface this can be set using the setDoubleSetting() function\n",
      "Parameter [offset] is missing in double map. In the python interface this can be set using the setDoubleSetting() function\n",
      "\n",
      "Trace fall time too short.\n",
      "\n",
      "  RuntimeWarning)\n"
     ]
    },
    {
     "ename": "UnboundLocalError",
     "evalue": "local variable 'feat' referenced before assignment",
     "output_type": "error",
     "traceback": [
      "\u001b[0;31m---------------------------------------------------------------------------\u001b[0m",
      "\u001b[0;31mUnboundLocalError\u001b[0m                         Traceback (most recent call last)",
      "\u001b[0;32m<ipython-input-8-b8b1a11dfa61>\u001b[0m in \u001b[0;36m<module>\u001b[0;34m()\u001b[0m\n\u001b[1;32m     17\u001b[0m \u001b[0mpower_law\u001b[0m \u001b[0;34m=\u001b[0m \u001b[0;32mlambda\u001b[0m \u001b[0mx\u001b[0m\u001b[0;34m,\u001b[0m\u001b[0ma\u001b[0m\u001b[0;34m,\u001b[0m\u001b[0mb\u001b[0m\u001b[0;34m,\u001b[0m\u001b[0mc\u001b[0m\u001b[0;34m:\u001b[0m \u001b[0ma\u001b[0m\u001b[0;34m*\u001b[0m\u001b[0mx\u001b[0m\u001b[0;34m**\u001b[0m\u001b[0mb\u001b[0m\u001b[0;34m+\u001b[0m\u001b[0mc\u001b[0m\u001b[0;34m\u001b[0m\u001b[0m\n\u001b[1;32m     18\u001b[0m \u001b[0;32mfor\u001b[0m \u001b[0mf\u001b[0m \u001b[0;32min\u001b[0m \u001b[0mfiles\u001b[0m\u001b[0;34m:\u001b[0m\u001b[0;34m\u001b[0m\u001b[0m\n\u001b[0;32m---> 19\u001b[0;31m     \u001b[0mpreprocess_cell\u001b[0m\u001b[0;34m(\u001b[0m\u001b[0mf\u001b[0m\u001b[0;34m,\u001b[0m\u001b[0mt0\u001b[0m\u001b[0;34m,\u001b[0m\u001b[0mdur\u001b[0m\u001b[0;34m,\u001b[0m\u001b[0mIstep\u001b[0m\u001b[0;34m,\u001b[0m\u001b[0mImin\u001b[0m\u001b[0;34m)\u001b[0m\u001b[0;34m\u001b[0m\u001b[0m\n\u001b[0m",
      "\u001b[0;32m<ipython-input-7-5e812dae8538>\u001b[0m in \u001b[0;36mpreprocess_cell\u001b[0;34m(filename, t0, dur, Istep, Imin)\u001b[0m\n\u001b[1;32m      3\u001b[0m     \u001b[0mfeatures\u001b[0m\u001b[0;34m,\u001b[0m\u001b[0mt\u001b[0m\u001b[0;34m,\u001b[0m\u001b[0mV\u001b[0m \u001b[0;34m=\u001b[0m \u001b[0mextract_features_from_cell\u001b[0m\u001b[0;34m(\u001b[0m\u001b[0mfilename\u001b[0m\u001b[0;34m,\u001b[0m\u001b[0mt0\u001b[0m\u001b[0;34m,\u001b[0m\u001b[0mdur\u001b[0m\u001b[0;34m)\u001b[0m\u001b[0;34m\u001b[0m\u001b[0m\n\u001b[1;32m      4\u001b[0m     \u001b[0;31m### resting membrane potential\u001b[0m\u001b[0;34m\u001b[0m\u001b[0;34m\u001b[0m\u001b[0m\n\u001b[0;32m----> 5\u001b[0;31m     \u001b[0mVrest\u001b[0m \u001b[0;34m=\u001b[0m \u001b[0mnp\u001b[0m\u001b[0;34m.\u001b[0m\u001b[0mmean\u001b[0m\u001b[0;34m(\u001b[0m\u001b[0;34m[\u001b[0m\u001b[0mf\u001b[0m\u001b[0;34m[\u001b[0m\u001b[0;34m'voltage_base'\u001b[0m\u001b[0;34m]\u001b[0m\u001b[0;34m[\u001b[0m\u001b[0;36m0\u001b[0m\u001b[0;34m]\u001b[0m \u001b[0;32mfor\u001b[0m \u001b[0mf\u001b[0m \u001b[0;32min\u001b[0m \u001b[0mfeat\u001b[0m\u001b[0;34m]\u001b[0m\u001b[0;34m)\u001b[0m\u001b[0;34m\u001b[0m\u001b[0m\n\u001b[0m\u001b[1;32m      6\u001b[0m     \u001b[0;31m### membrane time constant\u001b[0m\u001b[0;34m\u001b[0m\u001b[0;34m\u001b[0m\u001b[0m\n\u001b[1;32m      7\u001b[0m     \u001b[0mtime_constant\u001b[0m \u001b[0;34m=\u001b[0m \u001b[0mnp\u001b[0m\u001b[0;34m.\u001b[0m\u001b[0mmean\u001b[0m\u001b[0;34m(\u001b[0m\u001b[0;34m[\u001b[0m\u001b[0mf\u001b[0m\u001b[0;34m[\u001b[0m\u001b[0;34m'time_constant'\u001b[0m\u001b[0;34m]\u001b[0m\u001b[0;34m[\u001b[0m\u001b[0;36m0\u001b[0m\u001b[0;34m]\u001b[0m \u001b[0;32mfor\u001b[0m \u001b[0mf\u001b[0m \u001b[0;32min\u001b[0m \u001b[0mfeat\u001b[0m \u001b[0;32mif\u001b[0m \u001b[0mf\u001b[0m\u001b[0;34m[\u001b[0m\u001b[0;34m'time_constant'\u001b[0m\u001b[0;34m]\u001b[0m \u001b[0;32mis\u001b[0m \u001b[0;32mnot\u001b[0m \u001b[0mNone\u001b[0m\u001b[0;34m]\u001b[0m\u001b[0;34m)\u001b[0m\u001b[0;34m\u001b[0m\u001b[0m\n",
      "\u001b[0;31mUnboundLocalError\u001b[0m: local variable 'feat' referenced before assignment"
     ]
    }
   ],
   "source": [
    "# start time of the stimulation\n",
    "t0 = 120.    # ms\n",
    "# duration of the stimulation\n",
    "dur = 500.   # ms\n",
    "# minimum current step\n",
    "Imin = -50.  # pA\n",
    "# step of current\n",
    "Istep = 20.  # pA\n",
    "\n",
    "##########################################################################\n",
    "##### Modify this path to the folder containing the files to analyze #####\n",
    "##########################################################################\n",
    "basepath = '/Users/daniele/Desktop/Sara'\n",
    "\n",
    "# list of ABF files in the current directory containing voltage traces\n",
    "files = [f for f in glob.glob(basepath + '/*.abf') if contains_voltage_recording(f)]\n",
    "power_law = lambda x,a,b,c: a*x**b+c\n",
    "for f in files:\n",
    "    preprocess_cell(f,t0,dur,Istep,Imin)"
   ]
  }
 ],
 "metadata": {
  "kernelspec": {
   "display_name": "Python 2",
   "language": "python",
   "name": "python2"
  },
  "language_info": {
   "codemirror_mode": {
    "name": "ipython",
    "version": 2
   },
   "file_extension": ".py",
   "mimetype": "text/x-python",
   "name": "python",
   "nbconvert_exporter": "python",
   "pygments_lexer": "ipython2",
   "version": "2.7.12"
  }
 },
 "nbformat": 4,
 "nbformat_minor": 2
}
